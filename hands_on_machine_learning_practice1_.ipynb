{
  "nbformat": 4,
  "nbformat_minor": 0,
  "metadata": {
    "colab": {
      "provenance": [],
      "authorship_tag": "ABX9TyPghDqj0gygMr24UKVkaECH",
      "include_colab_link": true
    },
    "kernelspec": {
      "name": "python3",
      "display_name": "Python 3"
    },
    "language_info": {
      "name": "python"
    }
  },
  "cells": [
    {
      "cell_type": "markdown",
      "metadata": {
        "id": "view-in-github",
        "colab_type": "text"
      },
      "source": [
        "<a href=\"https://colab.research.google.com/github/hoon-i/ML-with-Math/blob/main/hands_on_machine_learning_practice1_.ipynb\" target=\"_parent\"><img src=\"https://colab.research.google.com/assets/colab-badge.svg\" alt=\"Open In Colab\"/></a>"
      ]
    },
    {
      "cell_type": "markdown",
      "source": [
        "# 핸즈온 머신러닝 교제 180p ~ 207p\n",
        "\n",
        "- 4.1.1 정규방정식"
      ],
      "metadata": {
        "id": "gi433S53_OtL"
      }
    },
    {
      "cell_type": "code",
      "execution_count": 1,
      "metadata": {
        "colab": {
          "base_uri": "https://localhost:8080/"
        },
        "id": "MtaVdkow-7uQ",
        "outputId": "0c5fa631-8322-4088-cb75-0c3d1f98682c"
      },
      "outputs": [
        {
          "output_type": "stream",
          "name": "stdout",
          "text": [
            "[[0.74908024]\n",
            " [1.90142861]\n",
            " [1.46398788]\n",
            " [1.19731697]\n",
            " [0.31203728]\n",
            " [0.31198904]\n",
            " [0.11616722]\n",
            " [1.73235229]\n",
            " [1.20223002]\n",
            " [1.41614516]\n",
            " [0.04116899]\n",
            " [1.9398197 ]\n",
            " [1.66488528]\n",
            " [0.42467822]\n",
            " [0.36364993]\n",
            " [0.36680902]\n",
            " [0.60848449]\n",
            " [1.04951286]\n",
            " [0.86389004]\n",
            " [0.58245828]\n",
            " [1.22370579]\n",
            " [0.27898772]\n",
            " [0.5842893 ]\n",
            " [0.73272369]\n",
            " [0.91213997]\n",
            " [1.57035192]\n",
            " [0.39934756]\n",
            " [1.02846888]\n",
            " [1.18482914]\n",
            " [0.09290083]\n",
            " [1.2150897 ]\n",
            " [0.34104825]\n",
            " [0.13010319]\n",
            " [1.89777107]\n",
            " [1.93126407]\n",
            " [1.6167947 ]\n",
            " [0.60922754]\n",
            " [0.19534423]\n",
            " [1.36846605]\n",
            " [0.88030499]\n",
            " [0.24407647]\n",
            " [0.99035382]\n",
            " [0.06877704]\n",
            " [1.8186408 ]\n",
            " [0.51755996]\n",
            " [1.32504457]\n",
            " [0.62342215]\n",
            " [1.04013604]\n",
            " [1.09342056]\n",
            " [0.36970891]\n",
            " [1.93916926]\n",
            " [1.55026565]\n",
            " [1.87899788]\n",
            " [1.7896547 ]\n",
            " [1.19579996]\n",
            " [1.84374847]\n",
            " [0.176985  ]\n",
            " [0.39196572]\n",
            " [0.09045458]\n",
            " [0.65066066]\n",
            " [0.77735458]\n",
            " [0.54269806]\n",
            " [1.65747502]\n",
            " [0.71350665]\n",
            " [0.56186902]\n",
            " [1.08539217]\n",
            " [0.28184845]\n",
            " [1.60439396]\n",
            " [0.14910129]\n",
            " [1.97377387]\n",
            " [1.54448954]\n",
            " [0.39743136]\n",
            " [0.01104423]\n",
            " [1.63092286]\n",
            " [1.41371469]\n",
            " [1.45801434]\n",
            " [1.54254069]\n",
            " [0.1480893 ]\n",
            " [0.71693146]\n",
            " [0.23173812]\n",
            " [1.72620685]\n",
            " [1.24659625]\n",
            " [0.66179605]\n",
            " [0.1271167 ]\n",
            " [0.62196464]\n",
            " [0.65036664]\n",
            " [1.45921236]\n",
            " [1.27511494]\n",
            " [1.77442549]\n",
            " [0.94442985]\n",
            " [0.23918849]\n",
            " [1.42648957]\n",
            " [1.5215701 ]\n",
            " [1.1225544 ]\n",
            " [1.54193436]\n",
            " [0.98759119]\n",
            " [1.04546566]\n",
            " [0.85508204]\n",
            " [0.05083825]\n",
            " [0.21578285]]\n",
            "[[ 6.33428778]\n",
            " [ 9.40527849]\n",
            " [ 8.48372443]\n",
            " [ 5.60438199]\n",
            " [ 4.71643995]\n",
            " [ 5.29307969]\n",
            " [ 5.82639572]\n",
            " [ 8.67878666]\n",
            " [ 6.79819647]\n",
            " [ 7.74667842]\n",
            " [ 5.03890908]\n",
            " [10.14821022]\n",
            " [ 8.46489564]\n",
            " [ 5.7873021 ]\n",
            " [ 5.18802735]\n",
            " [ 6.06907205]\n",
            " [ 5.12340036]\n",
            " [ 6.82087644]\n",
            " [ 6.19956196]\n",
            " [ 4.28385989]\n",
            " [ 7.96723765]\n",
            " [ 5.09801844]\n",
            " [ 5.75798135]\n",
            " [ 5.96358393]\n",
            " [ 5.32104916]\n",
            " [ 8.29041045]\n",
            " [ 4.85532818]\n",
            " [ 6.28312936]\n",
            " [ 7.3932017 ]\n",
            " [ 4.68275333]\n",
            " [ 9.53145501]\n",
            " [ 5.19772255]\n",
            " [ 4.64785995]\n",
            " [ 9.61886731]\n",
            " [ 7.87502098]\n",
            " [ 8.82387021]\n",
            " [ 5.88791282]\n",
            " [ 7.0492748 ]\n",
            " [ 7.91303719]\n",
            " [ 6.9424623 ]\n",
            " [ 4.69751764]\n",
            " [ 5.80238342]\n",
            " [ 5.34915394]\n",
            " [10.20785545]\n",
            " [ 6.34371184]\n",
            " [ 7.06574625]\n",
            " [ 7.27306077]\n",
            " [ 5.71855706]\n",
            " [ 7.86711877]\n",
            " [ 7.29958236]\n",
            " [ 8.82697144]\n",
            " [ 8.08449921]\n",
            " [ 9.73664501]\n",
            " [ 8.86548845]\n",
            " [ 6.03673644]\n",
            " [ 9.59980838]\n",
            " [ 3.4686513 ]\n",
            " [ 5.64948961]\n",
            " [ 3.3519395 ]\n",
            " [ 7.50191639]\n",
            " [ 5.54881045]\n",
            " [ 5.30603267]\n",
            " [ 9.78594227]\n",
            " [ 4.90965564]\n",
            " [ 5.91306699]\n",
            " [ 8.56331925]\n",
            " [ 3.23806212]\n",
            " [ 8.99781574]\n",
            " [ 4.70718666]\n",
            " [10.70314449]\n",
            " [ 7.3965179 ]\n",
            " [ 3.87183748]\n",
            " [ 4.55507427]\n",
            " [ 9.18975324]\n",
            " [ 8.49163691]\n",
            " [ 8.72049122]\n",
            " [ 7.94759736]\n",
            " [ 4.67652161]\n",
            " [ 6.44386684]\n",
            " [ 3.98086294]\n",
            " [11.04439507]\n",
            " [ 8.21362168]\n",
            " [ 4.79408465]\n",
            " [ 5.03790371]\n",
            " [ 4.89121226]\n",
            " [ 6.73818454]\n",
            " [ 9.53623265]\n",
            " [ 7.00466251]\n",
            " [10.28665258]\n",
            " [ 7.24607048]\n",
            " [ 5.53962564]\n",
            " [10.17626171]\n",
            " [ 8.31932218]\n",
            " [ 6.61392702]\n",
            " [ 7.73628865]\n",
            " [ 6.14696329]\n",
            " [ 7.05929527]\n",
            " [ 6.90639808]\n",
            " [ 4.42920556]\n",
            " [ 5.47453181]]\n"
          ]
        }
      ],
      "source": [
        "import numpy as np  #numpy 라이브러리 불러오기\n",
        "\n",
        "np.random.seed(42) #난수 결과 고정\n",
        "m = 100 #샘플 개수\n",
        "x = 2 * np.random.rand(m, 1) #numpy array 생성\n",
        "y = 4 + 3 * x + np.random.randn(m, 1) #numpy array 생성\n",
        "\n",
        "print(x)\n",
        "print(y)"
      ]
    },
    {
      "cell_type": "code",
      "source": [
        "import matplotlib.pyplot as plt\n",
        "\n",
        "plt.plot(x, y, 'b.') #x,y 분포 그래프로(점으로) 표현\n",
        "plt.show() #그래프 보여주기"
      ],
      "metadata": {
        "colab": {
          "base_uri": "https://localhost:8080/",
          "height": 430
        },
        "id": "8NWTQcUMD-c7",
        "outputId": "a2b1ccb2-5931-462c-9f45-4b78d01f4d07"
      },
      "execution_count": 2,
      "outputs": [
        {
          "output_type": "display_data",
          "data": {
            "text/plain": [
              "<Figure size 640x480 with 1 Axes>"
            ],
            "image/png": "[encoded data removed]"
          },
          "metadata": {}
        }
      ]
    },
    {
      "cell_type": "code",
      "source": [
        "from sklearn.preprocessing import add_dummy_feature #sklearn.preprocessing 으로부터 add_dummy_fearture 가져오기.\n",
        "\n",
        "x_b = add_dummy_feature(x) # 각 샘플에 x0=1을 추가\n",
        "theta_best = np.linalg.inv(x_b.T @ x_b) @ x_b.T @ y # inv() 함수를 통해 역행렬 계산\n",
        "\n",
        "''' \"@\" 연산자는 행렬의 곱샘을 수행.\n",
        "두 행렬이 numpy array일 경우에 np.matmul(A,B)와 동일.\n",
        "pytorch등에서도 @연산자 지원.\n",
        "python에서는 지원하지 않음.'''\n",
        "\n",
        "print(theta_best)"
      ],
      "metadata": {
        "colab": {
          "base_uri": "https://localhost:8080/"
        },
        "id": "X4FJr1cD__gj",
        "outputId": "cd80a8e0-45eb-4684-de39-2acadc80c7aa"
      },
      "execution_count": 3,
      "outputs": [
        {
          "output_type": "stream",
          "name": "stdout",
          "text": [
            "[[4.21509616]\n",
            " [2.77011339]]\n"
          ]
        }
      ]
    },
    {
      "cell_type": "code",
      "source": [
        "x_new = np.array([[0],[2]]) #[[0],[2]] array 생성\n",
        "x_new_b = add_dummy_feature(x_new) # x_new_b 정의\n",
        "y_predict = x_new_b @ theta_best # x_new_b 와 theta_best 행렬 곱\n",
        "print(y_predict)"
      ],
      "metadata": {
        "colab": {
          "base_uri": "https://localhost:8080/"
        },
        "id": "JXBl48FDCSsa",
        "outputId": "6368ebed-0d15-4b0e-9be2-94645e830a74"
      },
      "execution_count": 4,
      "outputs": [
        {
          "output_type": "stream",
          "name": "stdout",
          "text": [
            "[[4.21509616]\n",
            " [9.75532293]]\n"
          ]
        }
      ]
    },
    {
      "cell_type": "code",
      "source": [
        "import matplotlib.pyplot as plt\n",
        "\n",
        "plt.plot(x_new, y_predict, \"r-\", label = \"예측\") # 예측 직선 색을 빨간색으로 설정하고 범례를 '예측'으로 설정\n",
        "plt.plot(x, y, \"b.\")\n",
        "\n",
        "plt.rc('font',family='NanumGothic') #한글 폰트가 깨져서 폰트설정, 만약 다운로드 안되어 있으면 아래 셀 확인.\n",
        "\n",
        "plt.xlabel('x1') #x축 레이블을 x1으로 설정\n",
        "plt.ylabel('y') #y축 레이블을 y로 설정\n",
        "plt.legend() #그래프에 범례('예측')를 추가\n",
        "plt.grid(True) #그래프의 그리드 설정\n",
        "\n",
        "\n",
        "plt.show()"
      ],
      "metadata": {
        "colab": {
          "base_uri": "https://localhost:8080/",
          "height": 449
        },
        "id": "X46RnIy0E9Td",
        "outputId": "aa5f0c35-309f-44f1-f06a-de08fce16cb1"
      },
      "execution_count": 5,
      "outputs": [
        {
          "output_type": "display_data",
          "data": {
            "text/plain": [
              "<Figure size 640x480 with 1 Axes>"
            ],
            "image/png": "[encoded data removed]"
          },
          "metadata": {}
        }
      ]
    },
    {
      "cell_type": "code",
      "source": [
        "# @title 만약 한글 폰트가 깨진다면 아래의 방법 수행.\n",
        "\n",
        "#코랩에 nanum 폰트 다운로드\n",
        "!sudo apt-get install -y fonts-nanum\n",
        "!sudo fc-cache -fv\n",
        "!rm ~/.cache/matplotlib -rf\n",
        "\n",
        "#이후 런타임 재시작 후 한글 폰트 설정\n",
        "#plt.rc('font',family='NanumGothic')\n"
      ],
      "metadata": {
        "colab": {
          "base_uri": "https://localhost:8080/"
        },
        "cellView": "form",
        "id": "QG6SytbtJOFA",
        "outputId": "6d347b8f-7c17-4bdc-d765-63b3aeeea8eb"
      },
      "execution_count": 6,
      "outputs": [
        {
          "output_type": "stream",
          "name": "stdout",
          "text": [
            "Reading package lists... Done\n",
            "Building dependency tree... Done\n",
            "Reading state information... Done\n",
            "The following NEW packages will be installed:\n",
            "  fonts-nanum\n",
            "0 upgraded, 1 newly installed, 0 to remove and 45 not upgraded.\n",
            "Need to get 10.3 MB of archives.\n",
            "After this operation, 34.1 MB of additional disk space will be used.\n",
            "Get:1 http://archive.ubuntu.com/ubuntu jammy/universe amd64 fonts-nanum all 20200506-1 [10.3 MB]\n",
            "Fetched 10.3 MB in 0s (31.4 MB/s)\n",
            "debconf: unable to initialize frontend: Dialog\n",
            "debconf: (No usable dialog-like program is installed, so the dialog based frontend cannot be used. at /usr/share/perl5/Debconf/FrontEnd/Dialog.pm line 78, <> line 1.)\n",
            "debconf: falling back to frontend: Readline\n",
            "debconf: unable to initialize frontend: Readline\n",
            "debconf: (This frontend requires a controlling tty.)\n",
            "debconf: falling back to frontend: Teletype\n",
            "dpkg-preconfigure: unable to re-open stdin: \n",
            "Selecting previously unselected package fonts-nanum.\n",
            "(Reading database ... 121753 files and directories currently installed.)\n",
            "Preparing to unpack .../fonts-nanum_20200506-1_all.deb ...\n",
            "Unpacking fonts-nanum (20200506-1) ...\n",
            "Setting up fonts-nanum (20200506-1) ...\n",
            "Processing triggers for fontconfig (2.13.1-4.2ubuntu5) ...\n",
            "/usr/share/fonts: caching, new cache contents: 0 fonts, 1 dirs\n",
            "/usr/share/fonts/truetype: caching, new cache contents: 0 fonts, 3 dirs\n",
            "/usr/share/fonts/truetype/humor-sans: caching, new cache contents: 1 fonts, 0 dirs\n",
            "/usr/share/fonts/truetype/liberation: caching, new cache contents: 16 fonts, 0 dirs\n",
            "/usr/share/fonts/truetype/nanum: caching, new cache contents: 12 fonts, 0 dirs\n",
            "/usr/local/share/fonts: caching, new cache contents: 0 fonts, 0 dirs\n",
            "/root/.local/share/fonts: skipping, no such directory\n",
            "/root/.fonts: skipping, no such directory\n",
            "/usr/share/fonts/truetype: skipping, looped directory detected\n",
            "/usr/share/fonts/truetype/humor-sans: skipping, looped directory detected\n",
            "/usr/share/fonts/truetype/liberation: skipping, looped directory detected\n",
            "/usr/share/fonts/truetype/nanum: skipping, looped directory detected\n",
            "/var/cache/fontconfig: cleaning cache directory\n",
            "/root/.cache/fontconfig: not cleaning non-existent cache directory\n",
            "/root/.fontconfig: not cleaning non-existent cache directory\n",
            "fc-cache: succeeded\n"
          ]
        }
      ]
    },
    {
      "cell_type": "code",
      "source": [
        "from sklearn.linear_model import LinearRegression #sklearn에서 선형회귀 모델 불러오기\n",
        "lin_reg = LinearRegression() #모델 초기화\n",
        "lin_reg.fit(x,y) # x,y 데이터를 불러오기\n",
        "print(lin_reg.intercept_, lin_reg.coef_) #coef_ : 회귀계수, intercept_ : 속성을 통해 절편항 정보를 가져오기.\n",
        "print(lin_reg.predict(x_new))#예측값 얻는다"
      ],
      "metadata": {
        "colab": {
          "base_uri": "https://localhost:8080/"
        },
        "id": "6bmVZv56FAO6",
        "outputId": "1eb08aa9-12e4-4fed-c931-378501d1811f"
      },
      "execution_count": 6,
      "outputs": [
        {
          "output_type": "stream",
          "name": "stdout",
          "text": [
            "[4.21509616] [[2.77011339]]\n",
            "[[4.21509616]\n",
            " [9.75532293]]\n"
          ]
        }
      ]
    },
    {
      "cell_type": "code",
      "source": [
        "theta_best_svd, residuals, rank, s = np.linalg.lstsq(x_b, y, rcond=1e-6) #np.linalg.lstsq : 최소제곱\n",
        "\n",
        "print(theta_best_svd)\n",
        "\n",
        "print(np.linalg.pinv(x_b) @ y) #np.linalg.pinv : 유사 역행렬(무어-펜로즈) 구하기\n",
        "'''유사역행렬은 특잇값 분해(svd)기법을 사용해서 계산됨.'''"
      ],
      "metadata": {
        "colab": {
          "base_uri": "https://localhost:8080/",
          "height": 107
        },
        "id": "8Gev08fRP6NZ",
        "outputId": "9ad444e7-7b0e-43bd-9298-feae8307db19"
      },
      "execution_count": 7,
      "outputs": [
        {
          "output_type": "stream",
          "name": "stdout",
          "text": [
            "[[4.21509616]\n",
            " [2.77011339]]\n",
            "[[4.21509616]\n",
            " [2.77011339]]\n"
          ]
        },
        {
          "output_type": "execute_result",
          "data": {
            "text/plain": [
              "'유사역행렬은 특잇값 분해(svd)기법을 사용해서 계산됨.'"
            ],
            "application/vnd.google.colaboratory.intrinsic+json": {
              "type": "string"
            }
          },
          "metadata": {},
          "execution_count": 7
        }
      ]
    },
    {
      "cell_type": "markdown",
      "source": [
        "- 4.1.2 계산 복잡도\n"
      ],
      "metadata": {
        "id": "Ke6lG96pzmO-"
      }
    },
    {
      "cell_type": "code",
      "source": [
        "#경사하강법의 스탭\n",
        "\n",
        "eta = 0.1 #학습률\n",
        "n_epochs = 1000 #반복횟수\n",
        "m = len(x_b) #len()함수를 사용해 x_b개수를 구함\n",
        "\n",
        "np.random.seed(42) #난수 고정\n",
        "theta = np.random.randn(2,1) #난수를 이용해서 파라미터를 초기화\n",
        "\n",
        "for epoch in range(n_epochs): #반복횟수는 n_epochs = 1000 까지 1000번 반복\n",
        "  gradients = 2 / m * x_b.T @ (x_b @ theta - y)\n",
        "  theta = theta -eta * gradients\n",
        "\n",
        "print(theta)"
      ],
      "metadata": {
        "colab": {
          "base_uri": "https://localhost:8080/"
        },
        "id": "O_RNmY54wkpG",
        "outputId": "b86af13f-2f47-4950-c5d3-4c477857aa35"
      },
      "execution_count": 8,
      "outputs": [
        {
          "output_type": "stream",
          "name": "stdout",
          "text": [
            "[[4.21509616]\n",
            " [2.77011339]]\n"
          ]
        }
      ]
    },
    {
      "cell_type": "code",
      "source": [
        "#확률적 경사 하강법 구현\n",
        "\n",
        "n_epochs = 50\n",
        "t0, t1 = 5, 50 #학습 스케줄 하이퍼파라미터\n",
        "\n",
        "def learning_schedule(t): #learning_schedule 함수 정의\n",
        "  return t0 / (t + t1) #함수의 return 값이 t0 / (t + t1)\n",
        "\n",
        "np.random.seed(42) #난수 고정\n",
        "theta = np.random.randn(2, 1) #난수 초기화\n",
        "\n",
        "for epoch in range(n_epochs): #epoch 을 n_epochs 까지 반복\n",
        "  for iteration in range(m): # iteration 은 m 까지 반복\n",
        "    random_index = np.random.randint(m) #m 까지의 숫자 중에서 랜덤으로 1개 뽑기\n",
        "    xi = x_b[random_index:random_index + 1] #index에 해당하는 수를 x-b에서 뽑기\n",
        "    yi = y[random_index:random_index + 1] #index에 해당하는 수를 y에서 뽑기\n",
        "    gradients = 2 * xi.T @ (xi @ theta - yi) #경사 계산 SGD에서는 m으로 나누지 않는다\n",
        "    eta = learning_schedule(epoch * m + iteration) #learning_schedule 함수를 호출\n",
        "    theta = theta - eta * gradients #파라미터 초기화\n",
        "\n",
        "  print(theta)"
      ],
      "metadata": {
        "colab": {
          "base_uri": "https://localhost:8080/"
        },
        "id": "vmWpGoaj2OQz",
        "outputId": "8887406e-0c2c-470a-bc3f-41cf16f1d96e"
      },
      "execution_count": 9,
      "outputs": [
        {
          "output_type": "stream",
          "name": "stdout",
          "text": [
            "[[4.34170752]\n",
            " [2.95978149]]\n",
            "[[4.18374543]\n",
            " [2.76037786]]\n",
            "[[4.03850686]\n",
            " [2.86106602]]\n",
            "[[4.08578431]\n",
            " [2.80674319]]\n",
            "[[4.17639906]\n",
            " [2.83889955]]\n",
            "[[4.21841631]\n",
            " [2.79647827]]\n",
            "[[4.21387951]\n",
            " [2.82036856]]\n",
            "[[4.23097339]\n",
            " [2.86892194]]\n",
            "[[4.22347692]\n",
            " [2.78478717]]\n",
            "[[4.19540063]\n",
            " [2.79306016]]\n",
            "[[4.20406798]\n",
            " [2.78556912]]\n",
            "[[4.22358433]\n",
            " [2.75130941]]\n",
            "[[4.25966823]\n",
            " [2.7515771 ]]\n",
            "[[4.2158731 ]\n",
            " [2.70271043]]\n",
            "[[4.24748116]\n",
            " [2.78978592]]\n",
            "[[4.19094826]\n",
            " [2.7964367 ]]\n",
            "[[4.13270331]\n",
            " [2.74642708]]\n",
            "[[4.18640378]\n",
            " [2.81412386]]\n",
            "[[4.20712572]\n",
            " [2.80431384]]\n",
            "[[4.17892481]\n",
            " [2.77639082]]\n",
            "[[4.20185522]\n",
            " [2.79154663]]\n",
            "[[4.23386305]\n",
            " [2.82749384]]\n",
            "[[4.24577487]\n",
            " [2.83236365]]\n",
            "[[4.20081987]\n",
            " [2.78664637]]\n",
            "[[4.19339773]\n",
            " [2.76102409]]\n",
            "[[4.25109976]\n",
            " [2.83014283]]\n",
            "[[4.26544015]\n",
            " [2.80922197]]\n",
            "[[4.26080389]\n",
            " [2.78230918]]\n",
            "[[4.2484261 ]\n",
            " [2.77279922]]\n",
            "[[4.22946012]\n",
            " [2.75748854]]\n",
            "[[4.2187385 ]\n",
            " [2.73605254]]\n",
            "[[4.25793903]\n",
            " [2.78542844]]\n",
            "[[4.26719894]\n",
            " [2.80754787]]\n",
            "[[4.23931814]\n",
            " [2.77914863]]\n",
            "[[4.23981212]\n",
            " [2.7570424 ]]\n",
            "[[4.20125431]\n",
            " [2.71310928]]\n",
            "[[4.2273388 ]\n",
            " [2.73711087]]\n",
            "[[4.22554763]\n",
            " [2.72140094]]\n",
            "[[4.24232059]\n",
            " [2.7498285 ]]\n",
            "[[4.22956212]\n",
            " [2.73395403]]\n",
            "[[4.24533151]\n",
            " [2.77126908]]\n",
            "[[4.26096767]\n",
            " [2.77851104]]\n",
            "[[4.2437905 ]\n",
            " [2.75402751]]\n",
            "[[4.24849826]\n",
            " [2.748012  ]]\n",
            "[[4.22890162]\n",
            " [2.73120197]]\n",
            "[[4.23301583]\n",
            " [2.74846385]]\n",
            "[[4.21726743]\n",
            " [2.76710182]]\n",
            "[[4.22247435]\n",
            " [2.77202021]]\n",
            "[[4.21200431]\n",
            " [2.74968529]]\n",
            "[[4.21076011]\n",
            " [2.74856079]]\n"
          ]
        }
      ]
    },
    {
      "cell_type": "code",
      "source": [
        "from sklearn.linear_model import SGDRegressor #scikit-learn에서 SGDRegressor 모델 불러오기\n",
        "\n",
        "sgd_reg = SGDRegressor(max_iter=1000, tol=1e-5, penalty=None, eta0=0.01, n_iter_no_change=100, random_state=42)\n",
        "'''\n",
        "max_iter: 최대 반복 횟수\n",
        "tol: 종료 기준 -> 최적화 과정 중에 목적 함수의 변화가 이 값보다 작아지면 최적화를 종료\n",
        "penalty: 규제 항 설정 -> None으로, 규제를 사용하지 않음\n",
        "eta0: 학습률의 초기값\n",
        "n_iter_no_change: 허용된 반복 횟수 내에서 손실이 향상되지 않을 경우 조기 중지를 위한 반복 횟수\n",
        "random_state: 난수 생성 시드(난수 고정)\n",
        "'''\n",
        "sgd_reg.fit(x, y.ravel()) #sgd_reg에 x, y.ravel()에 해당하는 데이터 불러옴\n",
        "\n",
        "print(sgd_reg.intercept_, sgd_reg.coef_)"
      ],
      "metadata": {
        "colab": {
          "base_uri": "https://localhost:8080/"
        },
        "id": "f0RBCEoZ3pz0",
        "outputId": "74e5710c-8621-4784-941e-df897e9e1c23"
      },
      "execution_count": 10,
      "outputs": [
        {
          "output_type": "stream",
          "name": "stdout",
          "text": [
            "[4.21278812] [2.77270267]\n"
          ]
        }
      ]
    },
    {
      "cell_type": "markdown",
      "source": [
        "- 4.2.3 미니배치 경사 하강법\n",
        "- 4.3 다항 회귀"
      ],
      "metadata": {
        "id": "1CZb-bTo7QgD"
      }
    },
    {
      "cell_type": "code",
      "source": [
        "np.random.seed(42)\n",
        "m = 100\n",
        "x = 6 * np.random.rand(m,1) - 3\n",
        "y = 0.5 * x ** 2 + x + np.random.randn(m,1) #간단한 이차방정식 0.5x^2 + x + c 정의\n",
        "\n",
        "plt.plot(x, y, 'b.') #x,y 분포 그래프로(점으로) 표현\n",
        "plt.show() #그래프 보여주기"
      ],
      "metadata": {
        "colab": {
          "base_uri": "https://localhost:8080/",
          "height": 465
        },
        "id": "R6sFtre46Cxy",
        "outputId": "f4f41372-923a-4be8-83dc-2073f467c44e"
      },
      "execution_count": 11,
      "outputs": [
        {
          "output_type": "stream",
          "name": "stderr",
          "text": [
            "/usr/local/lib/python3.10/dist-packages/IPython/core/pylabtools.py:151: UserWarning: Glyph 8722 (\\N{MINUS SIGN}) missing from current font.\n",
            "  fig.canvas.print_figure(bytes_io, **kw)\n"
          ]
        },
        {
          "output_type": "display_data",
          "data": {
            "text/plain": [
              "<Figure size 640x480 with 1 Axes>"
            ],
            "image/png": "[encoded data removed]"
          },
          "metadata": {}
        }
      ]
    },
    {
      "cell_type": "code",
      "source": [
        "from sklearn.preprocessing import PolynomialFeatures #PolynomialFeatures를 불러옴\n",
        "\n",
        "poly_features = PolynomialFeatures(degree=2, include_bias=False) #PolynomialFeatures의 다항식 차수 2 차식, 절편 포함 x\n",
        "x_poly = poly_features.fit_transform(x) # x의 데이터를 불러오기 및 적용\n",
        "print(x[0])\n",
        "print(x_poly[0])"
      ],
      "metadata": {
        "colab": {
          "base_uri": "https://localhost:8080/"
        },
        "id": "dRsH0ijh7zG_",
        "outputId": "0bd0af2d-793c-4a40-c1b7-3d19a369457d"
      },
      "execution_count": 12,
      "outputs": [
        {
          "output_type": "stream",
          "name": "stdout",
          "text": [
            "[-0.75275929]\n",
            "[-0.75275929  0.56664654]\n"
          ]
        }
      ]
    },
    {
      "cell_type": "code",
      "source": [
        "lin_reg = LinearRegression() #lin_reg 초기화\n",
        "lin_reg.fit(x_poly, y) # lin_reg에 x_poly와 y의 데이터 사용\n",
        "\n",
        "lin_reg.intercept_, lin_reg.coef_ #coef_ : 회귀계수, intercept_ : 속성을 통해 절편항 정보를 가져오기."
      ],
      "metadata": {
        "colab": {
          "base_uri": "https://localhost:8080/"
        },
        "id": "Qnl8aWE38kFN",
        "outputId": "d438ddd0-dce0-4b80-9d26-a3628027b27a"
      },
      "execution_count": 13,
      "outputs": [
        {
          "output_type": "execute_result",
          "data": {
            "text/plain": [
              "(array([-0.21865419]), array([[0.93366893, 0.56456263]]))"
            ]
          },
          "metadata": {},
          "execution_count": 13
        }
      ]
    },
    {
      "cell_type": "code",
      "source": [],
      "metadata": {
        "id": "MKfMubow1Ak0"
      },
      "execution_count": null,
      "outputs": []
    },
    {
      "cell_type": "markdown",
      "source": [
        "- 4.4 학습곡선"
      ],
      "metadata": {
        "id": "3WgIWxLyCF0S"
      }
    },
    {
      "cell_type": "code",
      "source": [
        "from sklearn.model_selection import learning_curve #sklearn에서 learning_curve 불러오기\n",
        "\n",
        "train_sizes, train_scores, valid_scores = learning_curve(\n",
        "    LinearRegression(), x, y, train_sizes=np.linspace(0.01,1.0,40), cv = 5,\n",
        "    scoring=\"neg_root_mean_squared_error\") #learning_curve() 함수에 매개변수 설정, np.linspace(0.01, 1.0, 40)은 데이터 집합 크기의 1%에서 100% 사이에서 균일하게 간격을 둔 40개의 값을 사용한다라는 뜻이고 cv=5는 5-flod cross validation이다.\n",
        "train_errors = -train_scores.mean(axis=1) #평균을 계산\n",
        "valid_errors = -valid_scores.mean(axis=1) #평균을 계산\n",
        "\n",
        "plt.plot(train_sizes, train_errors, \"r-+\", linewidth=2, label=\"훈련 세트\") #그래프 그리기 옵션 설정\n",
        "plt.plot(train_sizes, valid_errors, \"b-+\", linewidth=3, label=\"검증 세트\") #그래프 그리기 옵션 설정\n",
        "\n",
        "plt.rc('font',family='NanumGothic') #한글 폰트가 깨져서 폰트설정\n",
        "\n",
        "plt.xlabel('훈련 세트 크기') #x축 레이블을 x1으로 설정\n",
        "plt.ylabel('RMSE') #y축 레이블을 y로 설정\n",
        "plt.legend() #그래프에 범례('예측')를 추가\n",
        "plt.grid(True) #그래프의 그리드 설정\n",
        "\n",
        "\n",
        "plt.show()"
      ],
      "metadata": {
        "colab": {
          "base_uri": "https://localhost:8080/",
          "height": 447
        },
        "id": "pN7jheufCE7c",
        "outputId": "ba544bc7-e918-4cb8-fede-7573da8a671f"
      },
      "execution_count": 14,
      "outputs": [
        {
          "output_type": "display_data",
          "data": {
            "text/plain": [
              "<Figure size 640x480 with 1 Axes>"
            ],
            "image/png": "[encoded data removed]"
          },
          "metadata": {}
        }
      ]
    },
    {
      "cell_type": "code",
      "source": [
        "#10차 다항 회귀 모델 학습 곡선 그리기\n",
        "\n",
        "from sklearn.pipeline import make_pipeline #sklearn에서 make_pipeline 불러오기\n",
        "\n",
        "polynomial_regression = make_pipeline(\n",
        "    PolynomialFeatures(degree=10, include_bias=False),\n",
        "    LinearRegression()) #make_pipeline 함수를 통해 절편이 없는 10차식을 생성하고 이를 선형회귀에 사용\n",
        "\n",
        "train_sizes, train_scores, valid_scores = learning_curve(\n",
        "    polynomial_regression, x, y, train_sizes=np.linspace(0.01,1.0,40), cv = 5,\n",
        "    scoring=\"neg_root_mean_squared_error\") #위와 동일하고 polynomial_regression만 다르다.\n",
        "\n",
        "train_errors = -train_scores.mean(axis=1)\n",
        "valid_errors = -valid_scores.mean(axis=1)\n",
        "\n",
        "plt.plot(train_sizes, train_errors, \"r-+\", linewidth=2, label=\"훈련 세트\")\n",
        "plt.plot(train_sizes, valid_errors, \"b-+\", linewidth=3, label=\"검증 세트\")\n",
        "\n",
        "plt.rc('font',family='NanumGothic') #한글 폰트가 깨져서 폰트설정, 만약 다운로드 안되어 있으면 아래 셀 확인.\n",
        "\n",
        "plt.xlabel('훈련 세트 크기') #x축 레이블을 x1으로 설정\n",
        "plt.ylabel('RMSE') #y축 레이블을 y로 설정\n",
        "plt.legend() #그래프에 범례('예측')를 추가\n",
        "plt.grid(True) #그래프의 그리드 설정\n",
        "\n",
        "\n",
        "plt.show()"
      ],
      "metadata": {
        "colab": {
          "base_uri": "https://localhost:8080/",
          "height": 447
        },
        "id": "dFcIsRIjD1W1",
        "outputId": "58869683-5918-4d97-c2e5-7805a6933e2f"
      },
      "execution_count": 15,
      "outputs": [
        {
          "output_type": "display_data",
          "data": {
            "text/plain": [
              "<Figure size 640x480 with 1 Axes>"
            ],
            "image/png": "[encoded data removed]"
          },
          "metadata": {}
        }
      ]
    },
    {
      "cell_type": "markdown",
      "source": [
        "- 4.5 규제가 있는 선형 모델\n",
        "- 4.5.1 릿지 회귀"
      ],
      "metadata": {
        "id": "EFay0qzKExdv"
      }
    },
    {
      "cell_type": "code",
      "source": [
        "#릿지 회귀\n",
        "from sklearn.linear_model import Ridge #sklearn에서 Ridge 함수 불러옴\n",
        "\n",
        "ridge_reg = Ridge(alpha=0.1, solver=\"cholesky\") #Ridge 함수에서 alpha값이 0.1이고 cholesky 행렬분해를 사용\n",
        "ridge_reg.fit(x,y)\n",
        "ridge_reg.predict([[1.5]]) #값 예측"
      ],
      "metadata": {
        "colab": {
          "base_uri": "https://localhost:8080/"
        },
        "id": "k4iv_Eb8EpJx",
        "outputId": "b6158b61-a046-44c8-deeb-1860ad6e0ece"
      },
      "execution_count": 16,
      "outputs": [
        {
          "output_type": "execute_result",
          "data": {
            "text/plain": [
              "array([[2.82899748]])"
            ]
          },
          "metadata": {},
          "execution_count": 16
        }
      ]
    },
    {
      "cell_type": "code",
      "source": [
        "#확률적 경사 하강법을 사용한 릿지 회귀\n",
        "sgd_reg = SGDRegressor(penalty='l2', alpha=0.1 / m, tol=None,\n",
        "                       max_iter=1000, eta0=0.01, random_state=42) #l2로 지정함으로서 alpha/m 하는 것으로 릿지회귀와 동일하게 만들었음.\n",
        "sgd_reg.fit(x, y.ravel())\n",
        "sgd_reg.predict([[1.5]])"
      ],
      "metadata": {
        "colab": {
          "base_uri": "https://localhost:8080/"
        },
        "id": "5xctWlSNFT4h",
        "outputId": "8790ddf3-b9ab-48e1-ff6a-8ffd9576dbb2"
      },
      "execution_count": 20,
      "outputs": [
        {
          "output_type": "execute_result",
          "data": {
            "text/plain": [
              "array([2.82830117])"
            ]
          },
          "metadata": {},
          "execution_count": 20
        }
      ]
    }
  ]
}