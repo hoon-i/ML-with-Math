{
  "cells": [
    {
      "cell_type": "markdown",
      "metadata": {
        "id": "view-in-github",
        "colab_type": "text"
      },
      "source": [
        "<a href=\"https://colab.research.google.com/github/hoon-i/ML-with-Math/blob/main/2%ED%95%99%EA%B8%B0%20%EA%B3%BC%EC%A0%9C1(Poly%20Kfold).ipynb\" target=\"_parent\"><img src=\"https://colab.research.google.com/assets/colab-badge.svg\" alt=\"Open In Colab\"/></a>"
      ]
    },
    {
      "cell_type": "code",
      "execution_count": null,
      "metadata": {
        "id": "bvmHesJ4mAId"
      },
      "outputs": [],
      "source": [
        "import numpy as np\n",
        "import pandas as pd\n",
        "from sklearn.model_selection import KFold, cross_val_score\n",
        "from sklearn.preprocessing import PolynomialFeatures\n",
        "from sklearn.linear_model import LinearRegression\n",
        "import matplotlib.pyplot as plt"
      ]
    },
    {
      "cell_type": "code",
      "execution_count": null,
      "metadata": {
        "id": "LQPxa3pMmAId",
        "outputId": "b6fd3c0b-3a0f-4077-8940-9c123c89e869"
      },
      "outputs": [
        {
          "data": {
            "text/html": [
              "<div>\n",
              "<style scoped>\n",
              "    .dataframe tbody tr th:only-of-type {\n",
              "        vertical-align: middle;\n",
              "    }\n",
              "\n",
              "    .dataframe tbody tr th {\n",
              "        vertical-align: top;\n",
              "    }\n",
              "\n",
              "    .dataframe thead th {\n",
              "        text-align: right;\n",
              "    }\n",
              "</style>\n",
              "<table border=\"1\" class=\"dataframe\">\n",
              "  <thead>\n",
              "    <tr style=\"text-align: right;\">\n",
              "      <th></th>\n",
              "      <th>cement</th>\n",
              "      <th>blast_furnace_slag</th>\n",
              "      <th>fly_ash</th>\n",
              "      <th>water</th>\n",
              "      <th>superplasticizer</th>\n",
              "      <th>coarse_aggregate</th>\n",
              "      <th>fine_aggregate</th>\n",
              "      <th>age</th>\n",
              "      <th>concrete_compressive_strength</th>\n",
              "    </tr>\n",
              "  </thead>\n",
              "  <tbody>\n",
              "    <tr>\n",
              "      <th>0</th>\n",
              "      <td>540.0</td>\n",
              "      <td>0.0</td>\n",
              "      <td>0.0</td>\n",
              "      <td>162.0</td>\n",
              "      <td>2.5</td>\n",
              "      <td>1040.0</td>\n",
              "      <td>676.0</td>\n",
              "      <td>28</td>\n",
              "      <td>79.99</td>\n",
              "    </tr>\n",
              "    <tr>\n",
              "      <th>1</th>\n",
              "      <td>540.0</td>\n",
              "      <td>0.0</td>\n",
              "      <td>0.0</td>\n",
              "      <td>162.0</td>\n",
              "      <td>2.5</td>\n",
              "      <td>1055.0</td>\n",
              "      <td>676.0</td>\n",
              "      <td>28</td>\n",
              "      <td>61.89</td>\n",
              "    </tr>\n",
              "    <tr>\n",
              "      <th>2</th>\n",
              "      <td>332.5</td>\n",
              "      <td>142.5</td>\n",
              "      <td>0.0</td>\n",
              "      <td>228.0</td>\n",
              "      <td>0.0</td>\n",
              "      <td>932.0</td>\n",
              "      <td>594.0</td>\n",
              "      <td>270</td>\n",
              "      <td>40.27</td>\n",
              "    </tr>\n",
              "    <tr>\n",
              "      <th>3</th>\n",
              "      <td>332.5</td>\n",
              "      <td>142.5</td>\n",
              "      <td>0.0</td>\n",
              "      <td>228.0</td>\n",
              "      <td>0.0</td>\n",
              "      <td>932.0</td>\n",
              "      <td>594.0</td>\n",
              "      <td>365</td>\n",
              "      <td>41.05</td>\n",
              "    </tr>\n",
              "    <tr>\n",
              "      <th>4</th>\n",
              "      <td>198.6</td>\n",
              "      <td>132.4</td>\n",
              "      <td>0.0</td>\n",
              "      <td>192.0</td>\n",
              "      <td>0.0</td>\n",
              "      <td>978.4</td>\n",
              "      <td>825.5</td>\n",
              "      <td>360</td>\n",
              "      <td>44.30</td>\n",
              "    </tr>\n",
              "    <tr>\n",
              "      <th>...</th>\n",
              "      <td>...</td>\n",
              "      <td>...</td>\n",
              "      <td>...</td>\n",
              "      <td>...</td>\n",
              "      <td>...</td>\n",
              "      <td>...</td>\n",
              "      <td>...</td>\n",
              "      <td>...</td>\n",
              "      <td>...</td>\n",
              "    </tr>\n",
              "    <tr>\n",
              "      <th>1025</th>\n",
              "      <td>276.4</td>\n",
              "      <td>116.0</td>\n",
              "      <td>90.3</td>\n",
              "      <td>179.6</td>\n",
              "      <td>8.9</td>\n",
              "      <td>870.1</td>\n",
              "      <td>768.3</td>\n",
              "      <td>28</td>\n",
              "      <td>44.28</td>\n",
              "    </tr>\n",
              "    <tr>\n",
              "      <th>1026</th>\n",
              "      <td>322.2</td>\n",
              "      <td>0.0</td>\n",
              "      <td>115.6</td>\n",
              "      <td>196.0</td>\n",
              "      <td>10.4</td>\n",
              "      <td>817.9</td>\n",
              "      <td>813.4</td>\n",
              "      <td>28</td>\n",
              "      <td>31.18</td>\n",
              "    </tr>\n",
              "    <tr>\n",
              "      <th>1027</th>\n",
              "      <td>148.5</td>\n",
              "      <td>139.4</td>\n",
              "      <td>108.6</td>\n",
              "      <td>192.7</td>\n",
              "      <td>6.1</td>\n",
              "      <td>892.4</td>\n",
              "      <td>780.0</td>\n",
              "      <td>28</td>\n",
              "      <td>23.70</td>\n",
              "    </tr>\n",
              "    <tr>\n",
              "      <th>1028</th>\n",
              "      <td>159.1</td>\n",
              "      <td>186.7</td>\n",
              "      <td>0.0</td>\n",
              "      <td>175.6</td>\n",
              "      <td>11.3</td>\n",
              "      <td>989.6</td>\n",
              "      <td>788.9</td>\n",
              "      <td>28</td>\n",
              "      <td>32.77</td>\n",
              "    </tr>\n",
              "    <tr>\n",
              "      <th>1029</th>\n",
              "      <td>260.9</td>\n",
              "      <td>100.5</td>\n",
              "      <td>78.3</td>\n",
              "      <td>200.6</td>\n",
              "      <td>8.6</td>\n",
              "      <td>864.5</td>\n",
              "      <td>761.5</td>\n",
              "      <td>28</td>\n",
              "      <td>32.40</td>\n",
              "    </tr>\n",
              "  </tbody>\n",
              "</table>\n",
              "<p>1030 rows × 9 columns</p>\n",
              "</div>"
            ],
            "text/plain": [
              "      cement  blast_furnace_slag  fly_ash  water  superplasticizer  \\\n",
              "0      540.0                 0.0      0.0  162.0               2.5   \n",
              "1      540.0                 0.0      0.0  162.0               2.5   \n",
              "2      332.5               142.5      0.0  228.0               0.0   \n",
              "3      332.5               142.5      0.0  228.0               0.0   \n",
              "4      198.6               132.4      0.0  192.0               0.0   \n",
              "...      ...                 ...      ...    ...               ...   \n",
              "1025   276.4               116.0     90.3  179.6               8.9   \n",
              "1026   322.2                 0.0    115.6  196.0              10.4   \n",
              "1027   148.5               139.4    108.6  192.7               6.1   \n",
              "1028   159.1               186.7      0.0  175.6              11.3   \n",
              "1029   260.9               100.5     78.3  200.6               8.6   \n",
              "\n",
              "      coarse_aggregate  fine_aggregate   age  concrete_compressive_strength  \n",
              "0               1040.0            676.0   28                          79.99  \n",
              "1               1055.0            676.0   28                          61.89  \n",
              "2                932.0            594.0  270                          40.27  \n",
              "3                932.0            594.0  365                          41.05  \n",
              "4                978.4            825.5  360                          44.30  \n",
              "...                ...              ...  ...                            ...  \n",
              "1025             870.1            768.3   28                          44.28  \n",
              "1026             817.9            813.4   28                          31.18  \n",
              "1027             892.4            780.0   28                          23.70  \n",
              "1028             989.6            788.9   28                          32.77  \n",
              "1029             864.5            761.5   28                          32.40  \n",
              "\n",
              "[1030 rows x 9 columns]"
            ]
          },
          "execution_count": 3,
          "metadata": {},
          "output_type": "execute_result"
        }
      ],
      "source": [
        "#데이터 로드\n",
        "\n",
        "data = pd.read_csv(r\"C:\\Users\\jhjang\\Desktop\\concrete_data.csv\")\n",
        "\n",
        "data"
      ]
    },
    {
      "cell_type": "code",
      "execution_count": null,
      "metadata": {
        "id": "qKpj5ObVmAIe"
      },
      "outputs": [],
      "source": [
        "#input, target설정\n",
        "\n",
        "x = data.drop(columns=['concrete_compressive_strength'])\n",
        "\n",
        "y = data['concrete_compressive_strength']"
      ]
    },
    {
      "cell_type": "code",
      "execution_count": null,
      "metadata": {
        "id": "EIezYg_pmAIe"
      },
      "outputs": [],
      "source": [
        "#다항식 차수\n",
        "\n",
        "degree = [1,2,3,4,5]\n",
        "\n",
        "result = []\n"
      ]
    },
    {
      "cell_type": "code",
      "execution_count": null,
      "metadata": {
        "id": "N6iKgiyvmAIe",
        "outputId": "09b18a6e-3a64-45f9-f81d-352e21cd9aa5"
      },
      "outputs": [
        {
          "name": "stdout",
          "output_type": "stream",
          "text": [
            "차수 : 1, MSE : 128.13775612964724\n",
            "차수 : 2, MSE : 1102.6732520742594\n",
            "차수 : 3, MSE : 2993.9549352076624\n",
            "차수 : 4, MSE : 1204900443040902.5\n",
            "차수 : 5, MSE : 1.0378815846720222e+16\n"
          ]
        }
      ],
      "source": [
        "for i in degree :\n",
        "    poly = PolynomialFeatures(degree = i)\n",
        "    X_poly = poly.fit_transform(x)\n",
        "\n",
        "    #회귀모델\n",
        "    model = LinearRegression()\n",
        "\n",
        "    #5fold\n",
        "    fold = -cross_val_score(model, X_poly, y, cv=5, scoring=('neg_mean_squared_error'))\n",
        "\n",
        "    #5 fold 의 평균\n",
        "    mean = np.mean(fold)\n",
        "    result.append(mean)\n",
        "\n",
        "    print(f'차수 : {i}, MSE : {mean}')"
      ]
    },
    {
      "cell_type": "code",
      "execution_count": null,
      "metadata": {
        "id": "ROM74k1OmAIf"
      },
      "outputs": [],
      "source": [
        "#최적의 차수 선택\n",
        "best = np.argmax(result)\n",
        "best_degree = degree[best]"
      ]
    },
    {
      "cell_type": "code",
      "execution_count": null,
      "metadata": {
        "id": "YMqQ2FKSmAIf",
        "outputId": "ac633669-751f-4f68-ea49-88fbb96b494c"
      },
      "outputs": [
        {
          "name": "stdout",
          "output_type": "stream",
          "text": [
            "최적 다항식 차수 : 5\n"
          ]
        }
      ],
      "source": [
        "print(f'최적 다항식 차수 : {best_degree}')"
      ]
    },
    {
      "cell_type": "code",
      "execution_count": null,
      "metadata": {
        "id": "XaJCZxD3mAIf",
        "outputId": "21708217-dbfc-43ca-f019-ce7bc1ca7a9c"
      },
      "outputs": [
        {
          "data": {
            "image/png": "[encoded data removed]",
            "text/plain": [
              "<Figure size 800x600 with 1 Axes>"
            ]
          },
          "metadata": {},
          "output_type": "display_data"
        }
      ],
      "source": [
        "plt.figure(figsize=(8, 6))\n",
        "plt.plot(degree, result, marker='o')\n",
        "plt.yscale('log')\n",
        "plt.title('교차 검증 MSE vs 다항식 차수 (Log Scale)')\n",
        "plt.xlabel('다항식 차수')\n",
        "plt.ylabel('교차 검증 MSE (Log Scale)')\n",
        "plt.grid(True)\n",
        "plt.show()"
      ]
    },
    {
      "cell_type": "code",
      "execution_count": null,
      "metadata": {
        "id": "2ZQS31K0mAIf"
      },
      "outputs": [],
      "source": []
    }
  ],
  "metadata": {
    "kernelspec": {
      "display_name": "jh3118",
      "language": "python",
      "name": "python3"
    },
    "language_info": {
      "codemirror_mode": {
        "name": "ipython",
        "version": 3
      },
      "file_extension": ".py",
      "mimetype": "text/x-python",
      "name": "python",
      "nbconvert_exporter": "python",
      "pygments_lexer": "ipython3",
      "version": "3.11.8"
    },
    "colab": {
      "provenance": [],
      "include_colab_link": true
    }
  },
  "nbformat": 4,
  "nbformat_minor": 0
}